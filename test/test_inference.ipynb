{
 "cells": [
  {
   "cell_type": "code",
   "execution_count": null,
   "id": "initial_id",
   "metadata": {
    "collapsed": true,
    "is_executing": true
   },
   "outputs": [],
   "source": [
    "from serve.inference import DefaultCompletion\n",
    "from transformers import AutoModelForCausalLM, AutoTokenizer\n",
    "\n",
    "checkpoint = r\"C:\\Projects\\Python\\my-llm-utils\\model\\iter258k\"\n",
    "device = \"cpu\"  # for GPU usage or \"cpu\" for CPU usage\n",
    "texts = [\n",
    "        \"The Manhattan bridge\",\n",
    "        \"Python lists are a data structure similar to dynamically\",\n",
    "        \"Tuples in Python are a data structure used to store multiple elements in a single variable. Just like list data structure, a tuple is\",\n",
    "        \"Even though List and Tuple are different data structures\",\n",
    "        \"An operating system (OS) is the program that\",\n",
    "        \"An operating system brings powerful benefits to computer software\",\n",
    "        \"As long as each application accesses the same resources and services\",\n",
    "        \"An operating system provides three essential capabilities: \",\n",
    "        \"The GUI is most frequently used by casual or end users that are primarily\",\n",
    "        \"An operating system can\",\n",
    "    ]"
   ]
  },
  {
   "cell_type": "code",
   "execution_count": null,
   "outputs": [],
   "source": [],
   "metadata": {
    "collapsed": false
   },
   "id": "bce4b29e4c723cc0"
  }
 ],
 "metadata": {
  "kernelspec": {
   "display_name": "Python 3",
   "language": "python",
   "name": "python3"
  },
  "language_info": {
   "codemirror_mode": {
    "name": "ipython",
    "version": 2
   },
   "file_extension": ".py",
   "mimetype": "text/x-python",
   "name": "python",
   "nbconvert_exporter": "python",
   "pygments_lexer": "ipython2",
   "version": "2.7.6"
  }
 },
 "nbformat": 4,
 "nbformat_minor": 5
}
